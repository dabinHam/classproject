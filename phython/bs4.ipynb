{
 "cells": [
  {
   "cell_type": "code",
   "execution_count": 1,
   "id": "fcd604a3",
   "metadata": {},
   "outputs": [],
   "source": [
    "html = '''\n",
    "<html>\n",
    "<head>\n",
    "</head>\n",
    "<body>\n",
    "    <h1> 우리동네시장</h1>\n",
    "    <div class = 'sale'>\n",
    "        <p id='fruits1' class='fruits'>\n",
    "            <span class = 'name'> 바나나 </span>\n",
    "            <span class = 'price'> 3000원 </span>\n",
    "            <span class = 'inventory'> 500개 </span>\n",
    "            <span class = 'store'> 가나다상회 </span>\n",
    "            <a href = 'http://www.naver.com' > 홈페이지 </a>\n",
    "        </p>\n",
    "    </div>\n",
    "    <div class = 'prepare'>\n",
    "        <p id='fruits2' class='fruits'>\n",
    "            <span class ='name'> 파인애플 </span>\n",
    "        </p>\n",
    "    </div>\n",
    "</body>\n",
    "</html>\n",
    "'''"
   ]
  },
  {
   "cell_type": "code",
   "execution_count": 2,
   "id": "597f7bf8",
   "metadata": {},
   "outputs": [],
   "source": [
    "import bs4"
   ]
  },
  {
   "cell_type": "code",
   "execution_count": 3,
   "id": "3ed55a80",
   "metadata": {},
   "outputs": [],
   "source": [
    "soup = bs4.BeautifulSoup(html)"
   ]
  },
  {
   "cell_type": "code",
   "execution_count": 9,
   "id": "afa45b56",
   "metadata": {},
   "outputs": [
    {
     "name": "stdout",
     "output_type": "stream",
     "text": [
      "== <span> 검색 ==\n",
      "<class 'bs4.element.ResultSet'>\n",
      "------------------\n",
      "[<span class=\"name\"> 바나나 </span>, <span class=\"price\"> 3000원 </span>, <span class=\"inventory\"> 500개 </span>, <span class=\"store\"> 가나다상회 </span>, <span class=\"name\"> 파인애플 </span>]\n",
      "\n",
      "== <p> 검색 ==\n",
      "[<p class=\"fruits\" id=\"fruits1\">\n",
      "<span class=\"name\"> 바나나 </span>\n",
      "<span class=\"price\"> 3000원 </span>\n",
      "<span class=\"inventory\"> 500개 </span>\n",
      "<span class=\"store\"> 가나다상회 </span>\n",
      "<a href=\"http://www.naver.com\"> 홈페이지 </a>\n",
      "</p>, <p class=\"fruits\" id=\"fruits2\">\n",
      "<span class=\"name\"> 파인애플 </span>\n",
      "</p>]\n"
     ]
    }
   ],
   "source": [
    "#태그 이름으로 검색\n",
    "print('== <span> 검색 ==')\n",
    "tags_span = soup.select('span')\n",
    "print(type(tags_span))\n",
    "print('------------------')\n",
    "print(tags_span)\n",
    "\n",
    "# <span>을 가진 태그를 찾아서 검색한 결과출력\n",
    "# for i in tags_span:\n",
    "#     print(i)\n",
    "\n",
    "print()\n",
    "print('== <p> 검색 ==')\n",
    "tags_p = soup.select('p')\n",
    "print(tags_p) "
   ]
  },
  {
   "cell_type": "code",
   "execution_count": 13,
   "id": "3da1a5d4",
   "metadata": {},
   "outputs": [
    {
     "name": "stdout",
     "output_type": "stream",
     "text": [
      "== #id 검색 ==\n",
      "[<p class=\"fruits\" id=\"fruits1\">\n",
      "<span class=\"name\"> 바나나 </span>\n",
      "<span class=\"price\"> 3000원 </span>\n",
      "<span class=\"inventory\"> 500개 </span>\n",
      "<span class=\"store\"> 가나다상회 </span>\n",
      "<a href=\"http://www.naver.com\"> 홈페이지 </a>\n",
      "</p>]\n",
      "\n",
      "== .class 검색 ==\n",
      "[<span class=\"price\"> 3000원 </span>]\n"
     ]
    }
   ],
   "source": [
    "print('== #id 검색 ==')\n",
    "tags_id = soup.select('#fruits1')\n",
    "print(tags_id)\n",
    "\n",
    "print()\n",
    "\n",
    "print('== .class 검색 ==')\n",
    "tags_class = soup.select('.price')\n",
    "print(tags_class)"
   ]
  },
  {
   "cell_type": "code",
   "execution_count": 14,
   "id": "ff350942",
   "metadata": {},
   "outputs": [
    {
     "name": "stdout",
     "output_type": "stream",
     "text": [
      "[<span class=\"name\"> 바나나 </span>, <span class=\"price\"> 3000원 </span>, <span class=\"inventory\"> 500개 </span>, <span class=\"store\"> 가나다상회 </span>, <span class=\"name\"> 파인애플 </span>]\n"
     ]
    }
   ],
   "source": [
    "print(tags_span)"
   ]
  },
  {
   "cell_type": "code",
   "execution_count": 20,
   "id": "7c57c751",
   "metadata": {},
   "outputs": [
    {
     "name": "stdout",
     "output_type": "stream",
     "text": [
      "0번지 :  <span class=\"name\"> 바나나 </span>\n",
      "\n",
      "3번지 :  <span class=\"store\"> 가나다상회 </span>\n"
     ]
    }
   ],
   "source": [
    "# <span>중 0번지 출력\n",
    "tag_1 = tags_span[0]\n",
    "print('0번지 : ',tag_1)\n",
    "\n",
    "print()\n",
    "tag_2 = tags_span[3]\n",
    "print('3번지 : ',tag_2)"
   ]
  },
  {
   "cell_type": "code",
   "execution_count": 31,
   "id": "d69eb15e",
   "metadata": {},
   "outputs": [
    {
     "name": "stdout",
     "output_type": "stream",
     "text": [
      "[<a href=\"http://www.naver.com\"> 홈페이지 </a>]\n",
      "\n",
      "⌈ === 반복문 ===\n",
      "⎮ -----------------\n",
      "<a href=\"http://www.naver.com\"> 홈페이지 </a>\n",
      "⎮ -----------------\n",
      " 홈페이지 \n",
      "⎮ -----------------\n",
      "<class 'str'>\n",
      "⎮ -----------------\n",
      "홈페이지\n",
      "⎮ -----------------\n",
      "http://www.naver.com\n",
      "⌊ -----------------\n"
     ]
    }
   ],
   "source": [
    "# html 구조분석시 용이함. \n",
    "# 데이터 가져와서 사용\n",
    "tags = soup.select('a')\n",
    "print(tags)\n",
    "print()\n",
    "print('⌈ === 반복문 ===')\n",
    "print('⎮ -----------------')\n",
    "tag = tags[0]\n",
    "print(tag)\n",
    "print('⎮ -----------------')\n",
    "content = tag.text\n",
    "print(content)\n",
    "print('⎮ -----------------')\n",
    "print(type(content))\n",
    "print('⎮ -----------------')\n",
    "print(content.strip())\n",
    "print('⎮ -----------------')\n",
    "link = tag['href']\n",
    "print(link)\n",
    "print('⌊ -----------------')"
   ]
  },
  {
   "cell_type": "code",
   "execution_count": null,
   "id": "a6c90c0b",
   "metadata": {},
   "outputs": [],
   "source": []
  },
  {
   "cell_type": "code",
   "execution_count": 58,
   "id": "deb4a723",
   "metadata": {},
   "outputs": [],
   "source": [
    "# 그냥 import 하려고 하면 오류발생\n",
    "# 별도 설치가 필요함.\n",
    "import selenium"
   ]
  },
  {
   "cell_type": "code",
   "execution_count": 48,
   "id": "565189d0",
   "metadata": {
    "scrolled": true
   },
   "outputs": [
    {
     "name": "stdout",
     "output_type": "stream",
     "text": [
      "Requirement already satisfied: selenium in /Users/yungwisang/Downloads/anaconda/anaconda3/lib/python3.9/site-packages (4.7.2)\n",
      "Requirement already satisfied: trio~=0.17 in /Users/yungwisang/Downloads/anaconda/anaconda3/lib/python3.9/site-packages (from selenium) (0.22.0)\n",
      "Requirement already satisfied: urllib3[socks]~=1.26 in /Users/yungwisang/Downloads/anaconda/anaconda3/lib/python3.9/site-packages (from selenium) (1.26.11)\n",
      "Requirement already satisfied: certifi>=2021.10.8 in /Users/yungwisang/Downloads/anaconda/anaconda3/lib/python3.9/site-packages (from selenium) (2022.9.24)\n",
      "Requirement already satisfied: trio-websocket~=0.9 in /Users/yungwisang/Downloads/anaconda/anaconda3/lib/python3.9/site-packages (from selenium) (0.9.2)\n",
      "Requirement already satisfied: idna in /Users/yungwisang/Downloads/anaconda/anaconda3/lib/python3.9/site-packages (from trio~=0.17->selenium) (3.3)\n",
      "Requirement already satisfied: attrs>=19.2.0 in /Users/yungwisang/Downloads/anaconda/anaconda3/lib/python3.9/site-packages (from trio~=0.17->selenium) (21.4.0)\n",
      "Requirement already satisfied: async-generator>=1.9 in /Users/yungwisang/Downloads/anaconda/anaconda3/lib/python3.9/site-packages (from trio~=0.17->selenium) (1.10)\n",
      "Requirement already satisfied: sniffio in /Users/yungwisang/Downloads/anaconda/anaconda3/lib/python3.9/site-packages (from trio~=0.17->selenium) (1.2.0)\n",
      "Requirement already satisfied: outcome in /Users/yungwisang/Downloads/anaconda/anaconda3/lib/python3.9/site-packages (from trio~=0.17->selenium) (1.2.0)\n",
      "Requirement already satisfied: exceptiongroup>=1.0.0rc9 in /Users/yungwisang/Downloads/anaconda/anaconda3/lib/python3.9/site-packages (from trio~=0.17->selenium) (1.1.0)\n",
      "Requirement already satisfied: sortedcontainers in /Users/yungwisang/Downloads/anaconda/anaconda3/lib/python3.9/site-packages (from trio~=0.17->selenium) (2.4.0)\n",
      "Requirement already satisfied: wsproto>=0.14 in /Users/yungwisang/Downloads/anaconda/anaconda3/lib/python3.9/site-packages (from trio-websocket~=0.9->selenium) (1.2.0)\n",
      "Requirement already satisfied: PySocks!=1.5.7,<2.0,>=1.5.6 in /Users/yungwisang/Downloads/anaconda/anaconda3/lib/python3.9/site-packages (from urllib3[socks]~=1.26->selenium) (1.7.1)\n",
      "Requirement already satisfied: h11<1,>=0.9.0 in /Users/yungwisang/Downloads/anaconda/anaconda3/lib/python3.9/site-packages (from wsproto>=0.14->trio-websocket~=0.9->selenium) (0.14.0)\n"
     ]
    }
   ],
   "source": [
    "# selenium 설치\n",
    "# !pip install 모듈명\n",
    "!pip install selenium"
   ]
  },
  {
   "cell_type": "code",
   "execution_count": 49,
   "id": "866be787",
   "metadata": {},
   "outputs": [],
   "source": [
    "# selenium 을 이용하여 멜론 top100목록에서 원하는순위 찾아보기!! "
   ]
  },
  {
   "cell_type": "code",
   "execution_count": 62,
   "id": "4e1c30b2",
   "metadata": {},
   "outputs": [],
   "source": [
    "url = 'https://www.melon.com/chart/index.htm'"
   ]
  },
  {
   "cell_type": "code",
   "execution_count": 63,
   "id": "94eff0a6",
   "metadata": {},
   "outputs": [],
   "source": [
    "import selenium\n",
    "from selenium import webdriver"
   ]
  },
  {
   "cell_type": "code",
   "execution_count": 69,
   "id": "9a9a9b9f",
   "metadata": {},
   "outputs": [
    {
     "name": "stderr",
     "output_type": "stream",
     "text": [
      "/var/folders/4n/sqkmtqrn27v565qvzlms5c180000gn/T/ipykernel_7659/432144853.py:1: DeprecationWarning: executable_path has been deprecated, please pass in a Service object\n",
      "  driver = webdriver.Chrome('/Users/yungwisang/Downloads/chromedriver')\n"
     ]
    },
    {
     "name": "stdout",
     "output_type": "stream",
     "text": [
      "Ditto   |   NewJeans\n",
      "OMG   |   NewJeans\n",
      "Hype boy   |   NewJeans\n",
      "사건의 지평선   |   윤하 (YOUNHA)\n",
      "ANTIFRAGILE   |   LE SSERAFIM (르세라핌)\n"
     ]
    }
   ],
   "source": [
    "driver = webdriver.Chrome('/Users/yungwisang/Downloads/chromedriver')\n",
    "driver.get(url)\n",
    "\n",
    "html = driver.page_source\n",
    "\n",
    "soup = bs4.BeautifulSoup(html)\n",
    "\n",
    "#print(soup)\n",
    "# tr을 찾고 div > span > a\n",
    "\n",
    "songs = soup.select('tr')[1:]\n",
    "\n",
    "for song in songs[:5]:\n",
    "    title = song.select('div.ellipsis.rank01 > span > a')[0].text\n",
    "    singer = song.select('div.ellipsis.rank02 > a')[0].text\n",
    "    print(title, singer, sep='   |   ')"
   ]
  },
  {
   "cell_type": "code",
   "execution_count": null,
   "id": "6616ccb3",
   "metadata": {},
   "outputs": [],
   "source": []
  },
  {
   "cell_type": "code",
   "execution_count": 70,
   "id": "1099b25e",
   "metadata": {},
   "outputs": [],
   "source": [
    "import pandas as pd"
   ]
  },
  {
   "cell_type": "code",
   "execution_count": 71,
   "id": "37d54065",
   "metadata": {},
   "outputs": [
    {
     "name": "stdout",
     "output_type": "stream",
     "text": [
      "[['Melon', 1, 'Ditto', 'NewJeans'], ['Melon', 2, 'OMG', 'NewJeans'], ['Melon', 3, 'Hype boy', 'NewJeans'], ['Melon', 4, '사건의 지평선', '윤하 (YOUNHA)'], ['Melon', 5, 'ANTIFRAGILE', 'LE SSERAFIM (르세라핌)'], ['Melon', 6, 'Candy', 'NCT DREAM'], ['Melon', 7, 'NOT SORRY (Feat. pH-1) (Prod. by Slom)', '이영지'], ['Melon', 8, 'Attention', 'NewJeans'], ['Melon', 9, 'After LIKE', 'IVE (아이브)'], ['Melon', 10, '사랑은 늘 도망가', '임영웅']]\n"
     ]
    }
   ],
   "source": [
    "song_data = []\n",
    "\n",
    "rank = 1\n",
    "\n",
    "songs = soup.select('tr')[1:]\n",
    "\n",
    "for song in songs:\n",
    "    title = song.select('div.rank01 > span > a')[0].text\n",
    "    singer = song.select('div.rank02 a')[0].text\n",
    "    song_data.append(['Melon', rank, title, singer])\n",
    "    rank +=1\n",
    "    \n",
    "print(song_data[:10])"
   ]
  },
  {
   "cell_type": "code",
   "execution_count": 72,
   "id": "ef51a524",
   "metadata": {},
   "outputs": [
    {
     "name": "stdout",
     "output_type": "stream",
     "text": [
      "      서비스   순위                타이틀                   가수\n",
      "0   Melon    1              Ditto             NewJeans\n",
      "1   Melon    2                OMG             NewJeans\n",
      "2   Melon    3           Hype boy             NewJeans\n",
      "3   Melon    4            사건의 지평선          윤하 (YOUNHA)\n",
      "4   Melon    5        ANTIFRAGILE   LE SSERAFIM (르세라핌)\n",
      "..    ...  ...                ...                  ...\n",
      "95  Melon   96            흩어지지 않게  엠씨더맥스 (M.C the MAX)\n",
      "96  Melon   97  이 소설의 끝을 다시 써보려 해                   테이\n",
      "97  Melon   98        Off My Face        Justin Bieber\n",
      "98  Melon   99           문 (Moon)            NCT DREAM\n",
      "99  Melon  100            인생은 뷰티풀                  김호중\n",
      "\n",
      "[100 rows x 4 columns]\n"
     ]
    }
   ],
   "source": [
    "pd_data = pd.DataFrame(song_data, columns=['서비스','순위','타이틀','가수'])\n",
    "print(pd_data)"
   ]
  },
  {
   "cell_type": "code",
   "execution_count": null,
   "id": "7be5abe6",
   "metadata": {},
   "outputs": [],
   "source": []
  }
 ],
 "metadata": {
  "kernelspec": {
   "display_name": "Python 3 (ipykernel)",
   "language": "python",
   "name": "python3"
  },
  "language_info": {
   "codemirror_mode": {
    "name": "ipython",
    "version": 3
   },
   "file_extension": ".py",
   "mimetype": "text/x-python",
   "name": "python",
   "nbconvert_exporter": "python",
   "pygments_lexer": "ipython3",
   "version": "3.9.13"
  }
 },
 "nbformat": 4,
 "nbformat_minor": 5
}
