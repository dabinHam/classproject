{
 "cells": [
  {
   "cell_type": "code",
   "execution_count": 1,
   "id": "b398a016",
   "metadata": {},
   "outputs": [],
   "source": [
    "from matplotlib import font_manager, rc\n",
    "\n",
    "font_path = '/system/Library/Fonts/AppleSDGothicNeo.ttc'\n",
    "font = font_manager.FontProperties(fname=font_path).get_name()\n",
    "rc('font', family=font)"
   ]
  },
  {
   "cell_type": "code",
   "execution_count": 2,
   "id": "e19d0670",
   "metadata": {},
   "outputs": [],
   "source": [
    "import requests\n",
    "import bs4\n",
    "\n",
    "url = 'https://news.daum.net/'\n",
    "res = requests.get(url)\n",
    "\n",
    "#print(res.text)\n",
    "\n",
    "soup = bs4.BeautifulSoup(res.text)\n",
    "#print(soup)\n",
    "#data = soup.select('a')\n",
    "data = soup.find_all('a')\n",
    "#print(data)"
   ]
  },
  {
   "cell_type": "code",
   "execution_count": 3,
   "id": "821fc98f",
   "metadata": {},
   "outputs": [],
   "source": [
    "category_url = {\n",
    "    '메인': ['https://news.daum.net/'],\n",
    "    '사회': ['https://news.daum.net/society'],\n",
    "    '정치': ['https://news.daum.net/politics'],\n",
    "    '경제': ['https://news.daum.net/economic'],\n",
    "    '국제': ['https://news.daum.net/foreign'],\n",
    "    '문화': ['https://news.daum.net/culture'],\n",
    "    'IT': ['https://news.daum.net/digital'],\n",
    "}"
   ]
  },
  {
   "cell_type": "code",
   "execution_count": 4,
   "id": "98e497f5",
   "metadata": {},
   "outputs": [],
   "source": [
    "for i, j in category_url.items():\n",
    "    res = requests.get(j[0])\n",
    "    j.append(res.text)"
   ]
  },
  {
   "cell_type": "code",
   "execution_count": 7,
   "id": "2f388667",
   "metadata": {},
   "outputs": [],
   "source": [
    "# print(category_url['문화'])"
   ]
  },
  {
   "cell_type": "code",
   "execution_count": null,
   "id": "f594452a",
   "metadata": {},
   "outputs": [],
   "source": []
  },
  {
   "cell_type": "code",
   "execution_count": 8,
   "id": "1170c75e",
   "metadata": {},
   "outputs": [],
   "source": [
    "temp = []\n",
    "\n",
    "for i,j in category_url.items():\n",
    "    soup = bs4.BeautifulSoup(j[1])\n",
    "    \n",
    "    for n in soup.find_all('span', attrs={'class':'info_cp'}):        \n",
    "        temp.append(n.text.strip())\n",
    "        \n",
    "    for n in soup.find_all('span', attrs={'class': 'info_thumb'}):\n",
    "        if n.find('a') == None:\n",
    "            \n",
    "            if '\\n' in n.text.strip():\n",
    "                temp.append(n.text.strip().split('\\n')[0])\n",
    "            elif n.text.strip() == '':\n",
    "                temp.append(n.find('img', alt=True)['alt'])\n",
    "            else:\n",
    "                temp.append(n.text.strip())"
   ]
  },
  {
   "cell_type": "code",
   "execution_count": 9,
   "id": "324f209a",
   "metadata": {},
   "outputs": [
    {
     "name": "stdout",
     "output_type": "stream",
     "text": [
      "['사회', '정치', '사회', '경제', '국제', '사회', '정치', '문화', '국제', '정치', '국제', '국제', '정치', 'IT', '국제', '국제', '국제', '정치', '사회', '경제', '머니투데이', 'KBS', '조선일보', '헤럴드경제', 'SBS', '노컷뉴스', '세계일보', '한국일보', 'kbc광주방송', 'JIBS', '매일경제', 'KBS', 'SBS', 'SBS', 'KBS', 'SBS', 'CJB청주방송', 'KBS', 'MBC', 'MBC', '대전일보', 'JTBC', '이데일리', 'MBN', 'KBS', 'SBS', '노컷뉴스', '세계일보', 'JTBC', 'MBC', 'MBC', 'YTN', 'JTBC', '조선일보', 'YTN', '연합뉴스TV', 'YTN', '뉴시스', '뉴스1', '중앙일보', 'KBS', 'CJB청주방송', '뉴시스', 'kbc광주방송', '경향신문', '연합뉴스', '조선일보', '뉴시스', '한겨레', 'KBS', '채널A', '채널A', 'MBN', 'kbc광주방송', 'KBS', '연합뉴스TV', 'MBC', '매일경제', 'JIBS', 'KBS', '매경이코노미', '아시아경제', '연합뉴스TV', 'CJB청주방송', 'SBS', 'SBS', 'JTBC', 'MBN', '이데일리', '경향신문', '경향신문', 'KBS', 'KBS', 'JIBS', '매경이코노미', '서울경제', 'KBS', '파이낸셜뉴스', 'YTN', 'MBC', '한국경제', '한국경제', '채널A', '경향신문', 'SBS', '문화일보', '한겨레', '세계일보', '조선일보', '연합뉴스TV', '뉴스1', '뉴시스', '연합뉴스', '뉴시스', '조선비즈', '뉴스1', '뉴시스', '머니투데이', '동아일보', '뉴시스', '한국경제', '서울신문', '서울신문', 'SBS', '헤럴드경제', 'MBC', '세계일보', '서울경제', '조선일보', '대구MBC', '조선일보', '한국경제', '전주MBC', '서울신문', '헬스조선', '국민일보', 'KBS', '농민신문', '헬스조선', '연합뉴스TV', '코메디닷컴', '헬스조선', 'KBS', '국민일보', '헬스조선', '웨딩21뉴스', '투어코리아', '코메디닷컴', '리빙센스', '하이닥', '키즈맘', '코스모폴리탄', '경향신문', 'JTBC', '대전일보', '조선일보', '경향신문', '대전일보', '경향신문', '세계일보', '디지털타임스', '지디넷코리아', '게임동아', '헤럴드경제', '디지털타임스', '데일리안', '아이뉴스24', '이데일리', '이데일리', '서울경제', 'IT동아', '헤럴드경제', '서울경제', 'KBS', '대구MBC', '전자신문', '뉴시스', '아이뉴스24', '한국경제', 'IT동아', '한국경제', '조선비즈', '조선일보', '전자신문', '이데일리', '아이뉴스24']\n"
     ]
    }
   ],
   "source": [
    "print(temp)"
   ]
  },
  {
   "cell_type": "code",
   "execution_count": 11,
   "id": "53257614",
   "metadata": {},
   "outputs": [],
   "source": [
    "# print(category_url['IT'])"
   ]
  },
  {
   "cell_type": "code",
   "execution_count": null,
   "id": "8fdfca12",
   "metadata": {},
   "outputs": [],
   "source": []
  },
  {
   "cell_type": "code",
   "execution_count": 12,
   "id": "b75d1d01",
   "metadata": {},
   "outputs": [
    {
     "name": "stdout",
     "output_type": "stream",
     "text": [
      "헤럴드경제\n",
      "서울경제\n",
      "KBS\n",
      "대구MBC\n",
      "전자신문\n",
      "뉴시스\n",
      "아이뉴스24\n",
      "한국경제\n",
      "IT동아\n",
      "한국경제\n",
      "조선비즈\n",
      "조선일보\n",
      "전자신문\n",
      "이데일리\n",
      "아이뉴스24\n",
      "['헤럴드경제', '서울경제', 'KBS', '대구MBC', '전자신문', '뉴시스', '아이뉴스24', '한국경제', 'IT동아', '한국경제', '조선비즈', '조선일보', '전자신문', '이데일리', '아이뉴스24']\n"
     ]
    }
   ],
   "source": [
    "temp_a = []\n",
    "soup = bs4.BeautifulSoup(category_url['IT'][1])\n",
    "for i in soup.find_all('span', attrs={'class': 'info_thumb'}):\n",
    "    if i.find('a') == None:\n",
    "        print(i.text.strip())\n",
    "        temp_a.append(i.text.strip())\n",
    "\n",
    "print(temp_a)"
   ]
  },
  {
   "cell_type": "code",
   "execution_count": 13,
   "id": "f98e71d8",
   "metadata": {},
   "outputs": [],
   "source": [
    "for i,j in category_url.items():\n",
    "    soup = bs4.BeautifulSoup(j[1])\n",
    "    # 언론사 리스트\n",
    "    temp = []\n",
    "    \n",
    "    for n in soup.find_all('span', attrs={'class':'info_cp'}):      \n",
    "        temp.append(n.text.strip())\n",
    "        \n",
    "    for n in soup.find_all('span', attrs={'class': 'info_thumb'}):\n",
    "        if n.find('a') == None:\n",
    "            \n",
    "            if '\\n' in n.text.strip():\n",
    "                temp.append(n.text.strip().split('\\n')[0])\n",
    "            elif n.text.strip() == '':\n",
    "                temp.append(n.find('img', alt=True)['alt'])\n",
    "            else:\n",
    "                temp.append(n.text.strip())\n",
    "    \n",
    "    j.append(temp)"
   ]
  },
  {
   "cell_type": "code",
   "execution_count": 14,
   "id": "985cbbdc",
   "metadata": {},
   "outputs": [
    {
     "name": "stdout",
     "output_type": "stream",
     "text": [
      "['지디넷코리아', '게임동아', '헤럴드경제', '디지털타임스', '데일리안', '아이뉴스24', '이데일리', '이데일리', '서울경제', 'IT동아', '헤럴드경제', '서울경제', 'KBS', '대구MBC', '전자신문', '뉴시스', '아이뉴스24', '한국경제', 'IT동아', '한국경제', '조선비즈', '조선일보', '전자신문', '이데일리', '아이뉴스24']\n"
     ]
    }
   ],
   "source": [
    "print(category_url['IT'][2])"
   ]
  },
  {
   "cell_type": "code",
   "execution_count": 17,
   "id": "6d9c67c6",
   "metadata": {},
   "outputs": [
    {
     "ename": "ModuleNotFoundError",
     "evalue": "No module named 'wordcloud'",
     "output_type": "error",
     "traceback": [
      "\u001b[0;31m---------------------------------------------------------------------------\u001b[0m",
      "\u001b[0;31mModuleNotFoundError\u001b[0m                       Traceback (most recent call last)",
      "\u001b[0;32m/var/folders/4n/sqkmtqrn27v565qvzlms5c180000gn/T/ipykernel_21766/492858602.py\u001b[0m in \u001b[0;36m<module>\u001b[0;34m\u001b[0m\n\u001b[0;32m----> 1\u001b[0;31m \u001b[0;32mimport\u001b[0m \u001b[0mwordcloud\u001b[0m\u001b[0;34m\u001b[0m\u001b[0;34m\u001b[0m\u001b[0m\n\u001b[0m",
      "\u001b[0;31mModuleNotFoundError\u001b[0m: No module named 'wordcloud'"
     ]
    }
   ],
   "source": [
    "import wordcloud"
   ]
  },
  {
   "cell_type": "code",
   "execution_count": null,
   "id": "4f35987b",
   "metadata": {},
   "outputs": [],
   "source": []
  },
  {
   "cell_type": "code",
   "execution_count": null,
   "id": "9be1ac92",
   "metadata": {},
   "outputs": [],
   "source": []
  },
  {
   "cell_type": "code",
   "execution_count": null,
   "id": "325af772",
   "metadata": {},
   "outputs": [],
   "source": []
  },
  {
   "cell_type": "code",
   "execution_count": null,
   "id": "a8a1972e",
   "metadata": {},
   "outputs": [],
   "source": []
  },
  {
   "cell_type": "code",
   "execution_count": null,
   "id": "2ed8c2f0",
   "metadata": {},
   "outputs": [],
   "source": []
  }
 ],
 "metadata": {
  "kernelspec": {
   "display_name": "Python 3 (ipykernel)",
   "language": "python",
   "name": "python3"
  },
  "language_info": {
   "codemirror_mode": {
    "name": "ipython",
    "version": 3
   },
   "file_extension": ".py",
   "mimetype": "text/x-python",
   "name": "python",
   "nbconvert_exporter": "python",
   "pygments_lexer": "ipython3",
   "version": "3.9.13"
  }
 },
 "nbformat": 4,
 "nbformat_minor": 5
}
