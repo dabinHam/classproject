{
 "cells": [
  {
   "cell_type": "code",
   "execution_count": 1,
   "id": "5b813c70",
   "metadata": {},
   "outputs": [],
   "source": [
    "html = '''\n",
    "<html>\n",
    "<head>\n",
    "</head>\n",
    "<body>\n",
    "    <h1> 우리동네시장</h1>\n",
    "    <div class = 'sale'>\n",
    "        <p id='fruits1' class='fruits'>\n",
    "            <span class = 'name'> 바나나 </span>\n",
    "            <span class = 'price'> 3000원 </span>\n",
    "            <span class = 'inventory'> 500개 </span>\n",
    "            <span class = 'store'> 가나다상회 </span>\n",
    "            <a href = 'http://www.naver.com' > 홈페이지 </a>\n",
    "        </p>\n",
    "    </div>\n",
    "    <div class = 'prepare'>\n",
    "        <p id='fruits2' class='fruits'>\n",
    "            <span class ='name'> 파인애플 </span>\n",
    "        </p>\n",
    "    </div>\n",
    "</body>\n",
    "</html>\n",
    "'''"
   ]
  },
  {
   "cell_type": "code",
   "execution_count": 2,
   "id": "70faffb0",
   "metadata": {},
   "outputs": [],
   "source": [
    "import bs4"
   ]
  },
  {
   "cell_type": "code",
   "execution_count": 3,
   "id": "12ff625d",
   "metadata": {},
   "outputs": [],
   "source": [
    "soup = bs4.BeautifulSoup(html)"
   ]
  },
  {
   "cell_type": "code",
   "execution_count": 9,
   "id": "64f86ff9",
   "metadata": {},
   "outputs": [
    {
     "name": "stdout",
     "output_type": "stream",
     "text": [
      "== <span> 검색 ==\n",
      "<class 'bs4.element.ResultSet'>\n",
      "------------------\n",
      "[<span class=\"name\"> 바나나 </span>, <span class=\"price\"> 3000원 </span>, <span class=\"inventory\"> 500개 </span>, <span class=\"store\"> 가나다상회 </span>, <span class=\"name\"> 파인애플 </span>]\n",
      "\n",
      "== <p> 검색 ==\n",
      "[<p class=\"fruits\" id=\"fruits1\">\n",
      "<span class=\"name\"> 바나나 </span>\n",
      "<span class=\"price\"> 3000원 </span>\n",
      "<span class=\"inventory\"> 500개 </span>\n",
      "<span class=\"store\"> 가나다상회 </span>\n",
      "<a href=\"http://www.naver.com\"> 홈페이지 </a>\n",
      "</p>, <p class=\"fruits\" id=\"fruits2\">\n",
      "<span class=\"name\"> 파인애플 </span>\n",
      "</p>]\n"
     ]
    }
   ],
   "source": [
    "#태그 이름으로 검색\n",
    "print('== <span> 검색 ==')\n",
    "tags_span = soup.select('span')\n",
    "print(type(tags_span))\n",
    "print('------------------')\n",
    "print(tags_span)\n",
    "\n",
    "# <span>을 가진 태그를 찾아서 검색한 결과출력\n",
    "# for i in tags_span:\n",
    "#     print(i)\n",
    "\n",
    "print()\n",
    "print('== <p> 검색 ==')\n",
    "tags_p = soup.select('p')\n",
    "print(tags_p) "
   ]
  },
  {
   "cell_type": "code",
   "execution_count": 13,
   "id": "c6adb71d",
   "metadata": {},
   "outputs": [
    {
     "name": "stdout",
     "output_type": "stream",
     "text": [
      "== #id 검색 ==\n",
      "[<p class=\"fruits\" id=\"fruits1\">\n",
      "<span class=\"name\"> 바나나 </span>\n",
      "<span class=\"price\"> 3000원 </span>\n",
      "<span class=\"inventory\"> 500개 </span>\n",
      "<span class=\"store\"> 가나다상회 </span>\n",
      "<a href=\"http://www.naver.com\"> 홈페이지 </a>\n",
      "</p>]\n",
      "\n",
      "== .class 검색 ==\n",
      "[<span class=\"price\"> 3000원 </span>]\n"
     ]
    }
   ],
   "source": [
    "print('== #id 검색 ==')\n",
    "tags_id = soup.select('#fruits1')\n",
    "print(tags_id)\n",
    "\n",
    "print()\n",
    "\n",
    "print('== .class 검색 ==')\n",
    "tags_class = soup.select('.price')\n",
    "print(tags_class)"
   ]
  },
  {
   "cell_type": "code",
   "execution_count": 14,
   "id": "387f6f4e",
   "metadata": {},
   "outputs": [
    {
     "name": "stdout",
     "output_type": "stream",
     "text": [
      "[<span class=\"name\"> 바나나 </span>, <span class=\"price\"> 3000원 </span>, <span class=\"inventory\"> 500개 </span>, <span class=\"store\"> 가나다상회 </span>, <span class=\"name\"> 파인애플 </span>]\n"
     ]
    }
   ],
   "source": [
    "print(tags_span)"
   ]
  },
  {
   "cell_type": "code",
   "execution_count": 20,
   "id": "f5947049",
   "metadata": {},
   "outputs": [
    {
     "name": "stdout",
     "output_type": "stream",
     "text": [
      "0번지 :  <span class=\"name\"> 바나나 </span>\n",
      "\n",
      "3번지 :  <span class=\"store\"> 가나다상회 </span>\n"
     ]
    }
   ],
   "source": [
    "# <span>중 0번지 출력\n",
    "tag_1 = tags_span[0]\n",
    "print('0번지 : ',tag_1)\n",
    "\n",
    "print()\n",
    "tag_2 = tags_span[3]\n",
    "print('3번지 : ',tag_2)"
   ]
  },
  {
   "cell_type": "code",
   "execution_count": 30,
   "id": "411a54a1",
   "metadata": {},
   "outputs": [
    {
     "name": "stdout",
     "output_type": "stream",
     "text": [
      "[<a href=\"http://www.naver.com\"> 홈페이지 </a>]\n",
      "\n",
      "⌈ === 반복문 ===\n",
      "⎮ -----------------\n",
      "<a href=\"http://www.naver.com\"> 홈페이지 </a>\n",
      "⎮ -----------------\n",
      " 홈페이지 \n",
      "⎮ -----------------\n",
      "<class 'str'>\n",
      "⎮ -----------------\n",
      "홈페이지\n",
      "⌊ -----------------\n",
      "http://www.naver.com\n"
     ]
    }
   ],
   "source": [
    "# html 구조분석시 용이함. \n",
    "tags = soup.select('a')\n",
    "print(tags)\n",
    "print()\n",
    "print('⌈ === 반복문 ===')\n",
    "print('⎮ -----------------')\n",
    "tag = tags[0]\n",
    "print(tag)\n",
    "print('⎮ -----------------')\n",
    "content = tag.text\n",
    "print(content)\n",
    "print('⎮ -----------------')\n",
    "print(type(content))\n",
    "print('⎮ -----------------')\n",
    "print(content.strip())\n",
    "print('⌊ -----------------')\n",
    "\n",
    "link = tag['href']\n",
    "print(link)"
   ]
  },
  {
   "cell_type": "code",
   "execution_count": null,
   "id": "c9bbfdb9",
   "metadata": {},
   "outputs": [],
   "source": []
  },
  {
   "cell_type": "code",
   "execution_count": null,
   "id": "7e5fd9d0",
   "metadata": {},
   "outputs": [],
   "source": []
  }
 ],
 "metadata": {
  "kernelspec": {
   "display_name": "Python 3 (ipykernel)",
   "language": "python",
   "name": "python3"
  },
  "language_info": {
   "codemirror_mode": {
    "name": "ipython",
    "version": 3
   },
   "file_extension": ".py",
   "mimetype": "text/x-python",
   "name": "python",
   "nbconvert_exporter": "python",
   "pygments_lexer": "ipython3",
   "version": "3.9.13"
  }
 },
 "nbformat": 4,
 "nbformat_minor": 5
}
