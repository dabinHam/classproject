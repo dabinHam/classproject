{
 "cells": [
  {
   "cell_type": "code",
   "execution_count": 1,
   "id": "c51b4d96",
   "metadata": {},
   "outputs": [],
   "source": [
    "b = \"\"\"    \n",
    "    홍길동: 1234, Gil-Dong Hong,\n",
    "    이길동: 3915, Gil-Dong Lee,\n",
    "    박길동: 0000, Gil-Dong Park\n",
    "\"\"\""
   ]
  },
  {
   "cell_type": "code",
   "execution_count": 2,
   "id": "8b89d66d",
   "metadata": {},
   "outputs": [
    {
     "name": "stdout",
     "output_type": "stream",
     "text": [
      "    \n",
      "    홍길동: 1234, Gil-Dong Hong,\n",
      "    이길동: 3915, Gil-Dong Lee,\n",
      "    박길동: 0000, Gil-Dong Park\n",
      "\n"
     ]
    }
   ],
   "source": [
    "print(b)"
   ]
  },
  {
   "cell_type": "code",
   "execution_count": 3,
   "id": "24fc8a2d",
   "metadata": {},
   "outputs": [
    {
     "name": "stdout",
     "output_type": "stream",
     "text": [
      "홍길동: 1234, Gil-Dong Hong,\n",
      "    이길동: 3915, Gil-Dong Lee,\n",
      "    박길동: 0000, Gil-Dong Park\n"
     ]
    }
   ],
   "source": [
    "# 좌우 공백 제거\n",
    "b = b.strip()\n",
    "print(b)"
   ]
  },
  {
   "cell_type": "code",
   "execution_count": 4,
   "id": "0e7acc54",
   "metadata": {},
   "outputs": [
    {
     "name": "stdout",
     "output_type": "stream",
     "text": [
      "['홍길동: 1234, Gil-Dong Hong,', '    이길동: 3915, Gil-Dong Lee,', '    박길동: 0000, Gil-Dong Park']\n"
     ]
    }
   ],
   "source": [
    "# 개행을 기준으로 분할\n",
    "list_temp = b.split('\\n')\n",
    "print(list_temp)"
   ]
  },
  {
   "cell_type": "code",
   "execution_count": 5,
   "id": "7299e9d8",
   "metadata": {},
   "outputs": [
    {
     "name": "stdout",
     "output_type": "stream",
     "text": [
      "홍길동: 1234, Gil-Dong Hong,\n",
      "['홍길동', ' 1234, Gil-Dong Hong,']\n",
      "홍길동\n",
      "홍길동\n"
     ]
    }
   ],
   "source": [
    "print(list_temp[0])\n",
    "result = list_temp[0].split(':')\n",
    "print(result)\n",
    "print(result[0])\n",
    "print(result[0].strip())"
   ]
  },
  {
   "cell_type": "code",
   "execution_count": 6,
   "id": "daa6e015",
   "metadata": {},
   "outputs": [
    {
     "name": "stdout",
     "output_type": "stream",
     "text": [
      "홍길동\n",
      "이길동\n",
      "박길동\n"
     ]
    }
   ],
   "source": [
    "for i in list_temp:\n",
    "    i = i.split(':')\n",
    "    i = i[0].strip()\n",
    "    print(i)"
   ]
  },
  {
   "cell_type": "code",
   "execution_count": 7,
   "id": "24c3354b",
   "metadata": {},
   "outputs": [
    {
     "name": "stdout",
     "output_type": "stream",
     "text": [
      "\n",
      "        <div class=\"select_div\">\n",
      "            <span data-i18n=\"footer.relationSites\">연관사이트</span>\n",
      "            <ul>\n",
      "\n",
      "\n",
      "            </ul>\n",
      "        </div>\n",
      "        <ul class=\"list_sns\">\n",
      "            <li><a href=\"https://www.facebook.com/ekoreatech\" target=\"_blank\"><img src=\"/res/lms/img/common/btn_footer_sns1.png\" alt=\"페이스북\"></a></li>\n",
      "            <li><a href=\"https://blog.naver.com/e-koreatech\" target=\"_blank\"><img src=\"/res/lms/img/common/btn_footer_sns2.png\" alt=\"블로그\"></a></li>\n",
      "            <li><a href=\"https://www.youtube.com/user/koreatecholei\" target=\"_blank\"><img src=\"/res/lms/img/common/btn_footer_sns3.png\" alt=\"유트브\"></a></li>\n",
      "        </ul>\n",
      "\n"
     ]
    }
   ],
   "source": [
    "c = \"\"\"\n",
    "        <div class=\"select_div\">\n",
    "            <span data-i18n=\"footer.relationSites\">연관사이트</span>\n",
    "            <ul>\n",
    "\n",
    "\n",
    "            </ul>\n",
    "        </div>\n",
    "        <ul class=\"list_sns\">\n",
    "            <li><a href=\"https://www.facebook.com/ekoreatech\" target=\"_blank\"><img src=\"/res/lms/img/common/btn_footer_sns1.png\" alt=\"페이스북\"></a></li>\n",
    "            <li><a href=\"https://blog.naver.com/e-koreatech\" target=\"_blank\"><img src=\"/res/lms/img/common/btn_footer_sns2.png\" alt=\"블로그\"></a></li>\n",
    "            <li><a href=\"https://www.youtube.com/user/koreatecholei\" target=\"_blank\"><img src=\"/res/lms/img/common/btn_footer_sns3.png\" alt=\"유트브\"></a></li>\n",
    "        </ul>\n",
    "\"\"\"\n",
    "print(c)"
   ]
  },
  {
   "cell_type": "code",
   "execution_count": 8,
   "id": "ba8c340b",
   "metadata": {},
   "outputs": [
    {
     "data": {
      "text/plain": [
       "169"
      ]
     },
     "execution_count": 8,
     "metadata": {},
     "output_type": "execute_result"
    }
   ],
   "source": [
    "c.find('list_sns')"
   ]
  },
  {
   "cell_type": "code",
   "execution_count": 9,
   "id": "1e54ffcb",
   "metadata": {},
   "outputs": [
    {
     "name": "stdout",
     "output_type": "stream",
     "text": [
      "list_sns\">\n",
      "            <li><a href=\"https://www.facebook.com/ekoreatech\" target=\"_blank\"><img src=\"/res/lms/img/common/btn_footer_sns1.png\" alt=\"페이스북\"></a></li>\n",
      "            <li><a href=\"https://blog.naver.com/e-koreatech\" target=\"_blank\"><img src=\"/res/lms/img/common/btn_footer_sns2.png\" alt=\"블로그\"></a></li>\n",
      "            <li><a href=\"https://www.youtube.com/user/koreatecholei\" target=\"_blank\"><img src=\"/res/lms/img/common/btn_footer_sns3.png\" alt=\"유트브\"></a></li>\n",
      "        </ul>\n",
      "\n"
     ]
    }
   ],
   "source": [
    "temp = c[169:]\n",
    "print(temp)"
   ]
  },
  {
   "cell_type": "code",
   "execution_count": 10,
   "id": "93eaf049",
   "metadata": {},
   "outputs": [
    {
     "name": "stdout",
     "output_type": "stream",
     "text": [
      "['list_sns\">\\n            <li><a href=\"https://www.facebook.com/ekoreatech\" target=\"_blank\"><img src=\"/res/lms/img/common/btn_footer_sns1.png\" alt=\"페이스북\"></a>', '\\n            <li><a href=\"https://blog.naver.com/e-koreatech\" target=\"_blank\"><img src=\"/res/lms/img/common/btn_footer_sns2.png\" alt=\"블로그\"></a>', '\\n            <li><a href=\"https://www.youtube.com/user/koreatecholei\" target=\"_blank\"><img src=\"/res/lms/img/common/btn_footer_sns3.png\" alt=\"유트브\"></a>', '\\n        </ul>\\n']\n"
     ]
    }
   ],
   "source": [
    "temp = temp.split('</li>')\n",
    "print(temp)"
   ]
  },
  {
   "cell_type": "code",
   "execution_count": 11,
   "id": "44aff8ec",
   "metadata": {},
   "outputs": [
    {
     "name": "stdout",
     "output_type": "stream",
     "text": [
      "list_sns\">\n",
      "            <li><a href=\"https://www.facebook.com/ekoreatech\" target=\"_blank\"><img src=\"/res/lms/img/common/btn_footer_sns1.png\" alt=\"페이스북\"></a>\n"
     ]
    }
   ],
   "source": [
    "print(temp[0])"
   ]
  },
  {
   "cell_type": "code",
   "execution_count": 12,
   "id": "2fed955d",
   "metadata": {},
   "outputs": [
    {
     "name": "stdout",
     "output_type": "stream",
     "text": [
      "list_sns\">\n",
      "            <li><a href=\"https://www.facebook.com/ekoreatech\n"
     ]
    }
   ],
   "source": [
    "url = temp[0].split('\" target')[0]\n",
    "print(url)"
   ]
  },
  {
   "cell_type": "code",
   "execution_count": 13,
   "id": "f2caf91f",
   "metadata": {},
   "outputs": [],
   "source": [
    "url = url.split('href=\"')\n",
    "# print(url)  \n",
    "# 이미 한번 split으로 잘랐기 때문에 2번을 입력하려고하면 에러발생함\n",
    "# 오류발생시 처음부터 다시 입력해야함 >> c.find('list_sns') 부터 "
   ]
  },
  {
   "cell_type": "code",
   "execution_count": 14,
   "id": "395bfc03",
   "metadata": {},
   "outputs": [
    {
     "name": "stdout",
     "output_type": "stream",
     "text": [
      "['list_sns\">\\n            <li><a ', 'https://www.facebook.com/ekoreatech']\n"
     ]
    }
   ],
   "source": [
    "print(url)"
   ]
  },
  {
   "cell_type": "code",
   "execution_count": 15,
   "id": "512386c4",
   "metadata": {},
   "outputs": [
    {
     "name": "stdout",
     "output_type": "stream",
     "text": [
      "https://www.facebook.com/ekoreatech\n"
     ]
    }
   ],
   "source": [
    "url = url[1]\n",
    "print(url)"
   ]
  },
  {
   "cell_type": "code",
   "execution_count": 16,
   "id": "389e826d",
   "metadata": {},
   "outputs": [
    {
     "name": "stdout",
     "output_type": "stream",
     "text": [
      "list_sns\">\n",
      "            <li><a href=\"https://www.facebook.com/ekoreatech\" target=\"_blank\"><img src=\"/res/lms/img/common/btn_footer_sns1.png\" alt=\"페이스북\"></a>\n"
     ]
    }
   ],
   "source": [
    "print(temp[0])"
   ]
  },
  {
   "cell_type": "code",
   "execution_count": 17,
   "id": "465a850c",
   "metadata": {},
   "outputs": [
    {
     "name": "stdout",
     "output_type": "stream",
     "text": [
      "페이스북\"></a>\n"
     ]
    }
   ],
   "source": [
    "name = temp[0].split('alt=\"')[1]\n",
    "print(name)"
   ]
  },
  {
   "cell_type": "code",
   "execution_count": 18,
   "id": "fa24e840",
   "metadata": {},
   "outputs": [
    {
     "name": "stdout",
     "output_type": "stream",
     "text": [
      "페이스북\n"
     ]
    }
   ],
   "source": [
    "# name = name[:4]\n",
    "# name.find('\"')\n",
    "name = name[:name.find('\"')]\n",
    "print(name)"
   ]
  },
  {
   "cell_type": "code",
   "execution_count": 19,
   "id": "1bbb8b85",
   "metadata": {},
   "outputs": [
    {
     "name": "stdout",
     "output_type": "stream",
     "text": [
      "https://www.facebook.com/ekoreatech\n",
      "페이스북\n",
      "https://blog.naver.com/e-koreatech\n",
      "블로그\n",
      "https://www.youtube.com/user/koreatecholei\n",
      "유트브\n"
     ]
    }
   ],
   "source": [
    "for i in range(len(temp)-1) :\n",
    "    url = temp[i].split('\" target')[0]\n",
    "    url = url.split('href=\"')[1]\n",
    "    print(url)\n",
    "    name = temp[i].split('alt=\"')[1]\n",
    "    name = name[:name.find('\"')]\n",
    "    print(name)"
   ]
  },
  {
   "cell_type": "code",
   "execution_count": 20,
   "id": "7dbcfe63",
   "metadata": {},
   "outputs": [
    {
     "name": "stdout",
     "output_type": "stream",
     "text": [
      "2345\n"
     ]
    }
   ],
   "source": [
    "import re\n",
    "\n",
    "a='a,2,3,4,5'\n",
    "pattern = re.compile('[^0-9]')\n",
    "result = re.sub(pattern, '', a)\n",
    "print(result)"
   ]
  },
  {
   "cell_type": "code",
   "execution_count": 21,
   "id": "356f667e",
   "metadata": {},
   "outputs": [
    {
     "name": "stdout",
     "output_type": "stream",
     "text": [
      "홍길동: 1234, Gil-Dong Hong,\n",
      "    이길동: 3915, Gil-Dong Lee,\n",
      "    박길동: 0000, Gil-Dong Park\n"
     ]
    }
   ],
   "source": [
    "print(b)"
   ]
  },
  {
   "cell_type": "code",
   "execution_count": 22,
   "id": "4996d4c8",
   "metadata": {},
   "outputs": [
    {
     "name": "stdout",
     "output_type": "stream",
     "text": [
      "홍길동이길동박길동\n"
     ]
    }
   ],
   "source": [
    "pattern = re.compile('[^가-힣]')\n",
    "result = re.sub(pattern,'',b)\n",
    "print(result)"
   ]
  },
  {
   "cell_type": "code",
   "execution_count": 23,
   "id": "974f7022",
   "metadata": {},
   "outputs": [
    {
     "name": "stdout",
     "output_type": "stream",
     "text": [
      "\n",
      "        <div class=\"select_div\">\n",
      "            <span data-i18n=\"footer.relationSites\">연관사이트</span>\n",
      "            <ul>\n",
      "\n",
      "\n",
      "            </ul>\n",
      "        </div>\n",
      "        <ul class=\"list_sns\">\n",
      "            <li><a href=\"https://www.facebook.com/ekoreatech\" target=\"_blank\"><img src=\"/res/lms/img/common/btn_footer_sns1.png\" alt=\"페이스북\"></a></li>\n",
      "            <li><a href=\"https://blog.naver.com/e-koreatech\" target=\"_blank\"><img src=\"/res/lms/img/common/btn_footer_sns2.png\" alt=\"블로그\"></a></li>\n",
      "            <li><a href=\"https://www.youtube.com/user/koreatecholei\" target=\"_blank\"><img src=\"/res/lms/img/common/btn_footer_sns3.png\" alt=\"유트브\"></a></li>\n",
      "        </ul>\n",
      "\n"
     ]
    }
   ],
   "source": [
    "print(c)"
   ]
  },
  {
   "cell_type": "code",
   "execution_count": 24,
   "id": "a5b87b77",
   "metadata": {},
   "outputs": [
    {
     "name": "stdout",
     "output_type": "stream",
     "text": [
      "<re.Match object; span=(205, 248), match='https://www.facebook.com/ekoreatech\" target'>\n",
      "https://www.facebook.com/ekoreatech\" target\n"
     ]
    }
   ],
   "source": [
    "pattern = re.compile('https://.*\" target')\n",
    "result = pattern.search(c)\n",
    "print(result)\n",
    "print(result.group())"
   ]
  },
  {
   "cell_type": "code",
   "execution_count": 25,
   "id": "9e291da3",
   "metadata": {},
   "outputs": [
    {
     "name": "stdout",
     "output_type": "stream",
     "text": [
      "<built-in method group of re.Match object at 0x7ff1a001b260>\n"
     ]
    }
   ],
   "source": [
    "pattern = re.compile('[a-z:/.]*')\n",
    "result = pattern.search(result.group())\n",
    "print(result.group)"
   ]
  },
  {
   "cell_type": "code",
   "execution_count": 26,
   "id": "d806b24a",
   "metadata": {},
   "outputs": [
    {
     "name": "stdout",
     "output_type": "stream",
     "text": [
      "['movieId', 'title', 'genres']\n",
      "['1', 'Toy Story (1995)', 'Adventure|Animation|Children|Comedy|Fantasy']\n",
      "['2', 'Jumanji (1995)', 'Adventure|Children|Fantasy']\n",
      "['3', 'Grumpier Old Men (1995)', 'Comedy|Romance']\n"
     ]
    }
   ],
   "source": [
    "import csv\n",
    "\n",
    "f = open('ml-latest-small/movies.csv','r')\n",
    "data = csv.reader(f)\n",
    "print(next(data))\n",
    "print(next(data))\n",
    "print(next(data))\n",
    "print(next(data))\n"
   ]
  },
  {
   "cell_type": "code",
   "execution_count": 32,
   "id": "a8881ce1",
   "metadata": {},
   "outputs": [
    {
     "name": "stdout",
     "output_type": "stream",
     "text": [
      "전체 개수 >>>>> 22084\n"
     ]
    }
   ],
   "source": [
    "f = open('ml-latest-small/movies.csv','r', encoding='utf-8')\n",
    "data = csv.reader(f)\n",
    "next(data)\n",
    "\n",
    "result = []\n",
    "for i in data:\n",
    "    result.extend(i[2].split('|'))\n",
    "    \n",
    "# print(result)\n",
    "print('전체 개수 >>>>>',len(result))\n"
   ]
  },
  {
   "cell_type": "code",
   "execution_count": 33,
   "id": "2f9eb519",
   "metadata": {},
   "outputs": [
    {
     "name": "stdout",
     "output_type": "stream",
     "text": [
      "{'Drama', 'Crime', 'Sci-Fi', 'Thriller', 'Fantasy', 'Children', 'Action', 'Western', 'Adventure', 'Horror', 'IMAX', 'Animation', 'Romance', 'Mystery', 'Musical', 'Film-Noir', 'Comedy', 'War', '(no genres listed)', 'Documentary'}\n",
      "-------------------\n",
      "{'Drama', 'Crime', 'Sci-Fi', 'Thriller', 'Fantasy', 'Children', 'Action', 'Western', 'Adventure', 'Horror', 'IMAX', 'Animation', 'Romance', 'Mystery', 'Musical', 'Film-Noir', 'Comedy', 'War', '(no genres listed)', 'Documentary'}\n",
      "20\n"
     ]
    }
   ],
   "source": [
    "#list -> set 중복데이터출력 x \n",
    "temp_set = set(result)\n",
    "print(temp_set)\n",
    "\n",
    "# set -> list \n",
    "print('-------------------')\n",
    "genres = temp_set\n",
    "print(genres)\n",
    "print(len(genres))"
   ]
  },
  {
   "cell_type": "code",
   "execution_count": 36,
   "id": "be430c94",
   "metadata": {},
   "outputs": [
    {
     "name": "stdout",
     "output_type": "stream",
     "text": [
      "{'Adventure': 1263, 'Animation': 611, 'Children': 664, 'Comedy': 3756, 'Fantasy': 779, 'Romance': 1596, 'Drama': 4361, 'Action': 1828, 'Crime': 1199, 'Thriller': 1894, 'Horror': 978, 'Mystery': 573, 'Sci-Fi': 980, 'War': 382, 'Musical': 334, 'Documentary': 440, 'IMAX': 158, 'Western': 167, 'Film-Noir': 87, '(no genres listed)': 34}\n"
     ]
    }
   ],
   "source": [
    "count = {}\n",
    "\n",
    "#장르별 몇개씩 들어있는지 확인\n",
    "\n",
    "#장르가 없다면 pass 있다면 1 출력\n",
    "# for i in result:\n",
    "#     if count.get(i):\n",
    "#         pass\n",
    "#     else: \n",
    "#         count[i] = 1\n",
    "\n",
    "# 없다면 \n",
    "for i in result:\n",
    "    if count.get(i):\n",
    "        count[i] +=1\n",
    "    else: \n",
    "        count[i] = 1\n",
    "    \n",
    "print(count)\n",
    "        "
   ]
  },
  {
   "cell_type": "code",
   "execution_count": null,
   "id": "b63e347a",
   "metadata": {},
   "outputs": [],
   "source": []
  }
 ],
 "metadata": {
  "kernelspec": {
   "display_name": "Python 3 (ipykernel)",
   "language": "python",
   "name": "python3"
  },
  "language_info": {
   "codemirror_mode": {
    "name": "ipython",
    "version": 3
   },
   "file_extension": ".py",
   "mimetype": "text/x-python",
   "name": "python",
   "nbconvert_exporter": "python",
   "pygments_lexer": "ipython3",
   "version": "3.9.13"
  }
 },
 "nbformat": 4,
 "nbformat_minor": 5
}
